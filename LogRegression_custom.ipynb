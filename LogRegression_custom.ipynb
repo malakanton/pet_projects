{
  "nbformat": 4,
  "nbformat_minor": 0,
  "metadata": {
    "colab": {
      "provenance": [],
      "authorship_tag": "ABX9TyMvSWG7LxivfwJMtEn4JAKh",
      "include_colab_link": true
    },
    "kernelspec": {
      "name": "python3",
      "display_name": "Python 3"
    },
    "language_info": {
      "name": "python"
    }
  },
  "cells": [
    {
      "cell_type": "markdown",
      "metadata": {
        "id": "view-in-github",
        "colab_type": "text"
      },
      "source": [
        "<a href=\"https://colab.research.google.com/github/malakanton/pet_projects/blob/main/LogRegression_custom.ipynb\" target=\"_parent\"><img src=\"https://colab.research.google.com/assets/colab-badge.svg\" alt=\"Open In Colab\"/></a>"
      ]
    },
    {
      "cell_type": "markdown",
      "source": [
        "#Logistic Regression from scratch"
      ],
      "metadata": {
        "id": "WTlTvVmL_k7I"
      }
    },
    {
      "cell_type": "markdown",
      "source": [
        "During my studying, I figured it would be a great experience to create a Logistic Regression on my own to dive deeper into ML math algorythms, python coding and better understand how it works. I've used 2 datasets to test the custom LodRegration I created and basic Sklearn logistic regression. Below you can find the outcome of the work i've done."
      ],
      "metadata": {
        "id": "0nHduibG1vFh"
      }
    },
    {
      "cell_type": "code",
      "source": [
        "import pandas as pd\n",
        "import numpy as np\n",
        "from sklearn.model_selection import train_test_split\n",
        "from sklearn.metrics import accuracy_score, roc_auc_score\n",
        "from sklearn.linear_model import LogisticRegression\n",
        "from sklearn.utils import shuffle"
      ],
      "metadata": {
        "id": "WOLR6ox2NExS"
      },
      "execution_count": null,
      "outputs": []
    },
    {
      "cell_type": "markdown",
      "source": [
        "These are the math formulas logistic regression is based on. \n",
        "\n",
        "Source: https://academy.yandex.ru/handbook/ml"
      ],
      "metadata": {
        "id": "svnw1U5k2NPh"
      }
    },
    {
      "cell_type": "markdown",
      "source": [
        "Loss function for Logistic regression"
      ],
      "metadata": {
        "id": "--1MjZMSOBGr"
      }
    },
    {
      "cell_type": "markdown",
      "source": [
        "$$\n",
        "L(w,X,y)=−∑_i(y_ilog(σ(⟨w,x_i⟩))+(1−y_i)log(σ(−⟨w,x_i⟩)))\n",
        "$$"
      ],
      "metadata": {
        "id": "w2Sk8YM_N7aY"
      }
    },
    {
      "cell_type": "markdown",
      "source": [
        "Gradient\n",
        "\n",
        "$$\n",
        "∇wL(y,X,w)=−∑_ix_i(y_i−σ(⟨w,x_i⟩)))\n",
        "$$"
      ],
      "metadata": {
        "id": "eLDGChxqOJJw"
      }
    },
    {
      "cell_type": "markdown",
      "source": [
        "Model predictions:\n",
        "$$\n",
        "p=σ(⟨w,x_i⟩) = {{1}\\over{1+e^{−⟨w,x_i⟩}}}\n",
        "$$"
      ],
      "metadata": {
        "id": "dLfSdHthOWm3"
      }
    },
    {
      "cell_type": "markdown",
      "source": [
        "Below you can see the code of my logistic regression class.\n",
        "Desctiptions of methods I'm using:\n",
        "\n",
        "\n",
        "*   _ _ init_ _ is a must have method using every time the class is created. It takes two hypreparameters of my logistic regression: lr - learning rate(the gradient descent step), and a th - thereshold(a decision boundary, the output is either 0 or 1)\n",
        "*   _normalize method is a method conducting the features normalization in order to get all features into range of -1 to 1 by substracting the mean value of each feature and dividing by standard deviation. It takes the raw numeric features and returns the normalized ones.\n",
        "*   fit method(callable) provides the actual weights fitting according to the features by SGD(stohastic gradient descent). Brief description:\n",
        "    - Normalization of income features(keep in mind the class will store the mean and std for each feature in order to use it for unknown data)\n",
        "    - Adding of extra feature - bias (so all weights are stored in one numpy array)\n",
        "    - For each batch I extract a particular amount of objects to learn on(using batch_size) \n",
        "    - Calculate predictions by a sigmoid function\n",
        "    - Calculating the gradient\n",
        "    - Do the gradient step opposite side of the gradient direction multiplying by our learning rate\n",
        "    - Calculate the losses and stack it in a list\n",
        "    - Calculate the total losses for each epoch\n",
        "*   predict_proba method is needed to estimate the probabilities for each object in a test sample relating to the class 1 using the sigmoid function\n",
        "*   predict mothod use the predict_proba method and a threshold in order to predict the class the object is related to\n",
        "*   _sigma method is an internal class function used to calculate the sigmoid\n",
        "*   _loss function calculates the loss by BCE(binary cross entropy function). I clip the input array in order to prevent the zeros in log\n",
        "*   _grad method calculates the gradients using the formula above\n",
        "\n"
      ],
      "metadata": {
        "id": "4F2MW-HO3C1l"
      }
    },
    {
      "cell_type": "markdown",
      "source": [
        "Here is a code for the class:"
      ],
      "metadata": {
        "id": "v_Yv33Xf9kCb"
      }
    },
    {
      "cell_type": "code",
      "source": [
        "class LogRegression():\n",
        "\n",
        "    \"\"\"Custom Logistic Regression\"\"\"\n",
        "    \n",
        "    def __init__(self, lr=0.001, th=0.5):\n",
        "        self.lr = lr\n",
        "        self.th = th\n",
        "\n",
        "\n",
        "    def _normalize(self, X): # features normalizing\n",
        "        X = X.copy()\n",
        "        self.std = np.zeros(X.shape[1])\n",
        "        self.mean = np.zeros(X.shape[1])\n",
        "        for i in range(X.shape[1]): #for each feature\n",
        "            self.std[i] = X[:,i].std() #calculation standart deviation\n",
        "            self.mean[i] = X[:,i].mean() #calculation mean\n",
        "            X[:,i] = (X[:,i]- self.mean[i]) / self.std[i]\n",
        "        \n",
        "        return X\n",
        "\n",
        "\n",
        "    def fit(self, X, y, batch_size=100, iters=100, iter_display=10): # gradient descent learning\n",
        "        X = X.copy()\n",
        "        X = self._normalize(X)\n",
        "        X = np.concatenate((np.ones((X.shape[0], 1)), X), axis=1) #adding additional feature - bias\n",
        "                \n",
        "        self.w = np.random.randn(X.shape[1]) #initializing random weights\n",
        "        losses = []\n",
        "\n",
        "        for epoch in range(1,iters): # epochs iteration\n",
        "            for i in range((X.shape[0]-1)//batch_size + 1): #batches iteration\n",
        "                #batches extraction\n",
        "                start_i = i * batch_size\n",
        "                end_i = start_i + batch_size\n",
        "                X_batch = X[start_i:end_i]\n",
        "                y_batch = y[start_i:end_i]\n",
        "                #batch predictions\n",
        "                predictions = self._sigma(X_batch, self.w) #sigmoid\n",
        "                gradient = self._grad(X_batch, y_batch, predictions) # calc gradients\n",
        "                self.w -= self.lr * gradient # gradient descent step\n",
        "                \n",
        "                loss = self._loss(y_batch, predictions)#loss calculation\n",
        "                losses.append(loss)\n",
        "            total_preds = self._sigma(X, self.w)\n",
        "            loss = self._loss(y, total_preds)\n",
        "            print(f'Iteration: {epoch}, Loss: {loss}') #print during learning process \n",
        "\n",
        "\n",
        "    def predict_proba(self, X): # predicting scores from 0 to 1\n",
        "        X_test = X.copy()\n",
        "        for i in range(X_test.shape[1]): #normalization using mean and std values from train\n",
        "            X_test[:,i] = (X_test[:,i]- self.mean[i]) / self.std[i]\n",
        "        \n",
        "        X_test = np.concatenate((np.ones((X_test.shape[0], 1)), X_test), axis=1) #adding bias\n",
        "                \n",
        "        return self._sigma(X_test, self.w) #predict = sigmoid function results\n",
        "\n",
        "\n",
        "    def predict(self, X): # predicting binary classes\n",
        "\n",
        "        return np.array(self.predict_proba(X)>=self.th).astype(int)\n",
        "\n",
        "\n",
        "    def _sigma(self, X, w): #sigmoid function for calculation predictions\n",
        "        logit = np.dot(X,w)\n",
        "        return 1 / (1 + np.exp(- logit))\n",
        "        \n",
        "\n",
        "    def _loss (self, y, preds): # loss function\n",
        "        preds = np.clip(preds, 1e-10, 1 - 1e-10)\n",
        "        return -np.sum(y * np.log(preds) + (1 - y) * np.log(1 - preds))\n",
        "        \n",
        "\n",
        "    def _grad(self, X, y, preds): # gradient based on features, target and predictions\n",
        "        w_grad = X.T @ (preds - y)\n",
        "        return w_grad"
      ],
      "metadata": {
        "id": "g3nUBF_rOZbU"
      },
      "execution_count": null,
      "outputs": []
    },
    {
      "cell_type": "markdown",
      "source": [
        "##Let's test the model we defined:"
      ],
      "metadata": {
        "id": "kDQTZ0Jw-M4s"
      }
    },
    {
      "cell_type": "markdown",
      "source": [
        "## Mobile operator's customers behavior dataset"
      ],
      "metadata": {
        "id": "pfD1CzbaCvXI"
      }
    },
    {
      "cell_type": "markdown",
      "source": [
        "It contains information about mobile operator users' behavior.\n",
        "- calls - number of calls,\n",
        "- minutes - total duration of calls in minutes,\n",
        "- messages -  number of sms \n",
        "- mb_used - consumed internet traffic in Mb\n",
        "- is_ultra - which tariff was used during the month (\"Ultra\" — 1, \"Smart\" — 0)"
      ],
      "metadata": {
        "id": "QlRauniw-geN"
      }
    },
    {
      "cell_type": "code",
      "source": [
        "url = 'https://code.s3.yandex.net/datasets/users_behavior.csv'\n",
        "df = pd.read_csv(url)\n",
        "df.head()"
      ],
      "metadata": {
        "id": "EdcgwrS3NCwS",
        "colab": {
          "base_uri": "https://localhost:8080/",
          "height": 206
        },
        "outputId": "34c5a111-c12b-4b42-aca2-251f9de1b422"
      },
      "execution_count": null,
      "outputs": [
        {
          "output_type": "execute_result",
          "data": {
            "text/plain": [
              "   calls  minutes  messages   mb_used  is_ultra\n",
              "0   40.0   311.90      83.0  19915.42         0\n",
              "1   85.0   516.75      56.0  22696.96         0\n",
              "2   77.0   467.66      86.0  21060.45         0\n",
              "3  106.0   745.53      81.0   8437.39         1\n",
              "4   66.0   418.74       1.0  14502.75         0"
            ],
            "text/html": [
              "\n",
              "  <div id=\"df-a79a3e66-5d06-4cad-a193-4818bf5c392c\">\n",
              "    <div class=\"colab-df-container\">\n",
              "      <div>\n",
              "<style scoped>\n",
              "    .dataframe tbody tr th:only-of-type {\n",
              "        vertical-align: middle;\n",
              "    }\n",
              "\n",
              "    .dataframe tbody tr th {\n",
              "        vertical-align: top;\n",
              "    }\n",
              "\n",
              "    .dataframe thead th {\n",
              "        text-align: right;\n",
              "    }\n",
              "</style>\n",
              "<table border=\"1\" class=\"dataframe\">\n",
              "  <thead>\n",
              "    <tr style=\"text-align: right;\">\n",
              "      <th></th>\n",
              "      <th>calls</th>\n",
              "      <th>minutes</th>\n",
              "      <th>messages</th>\n",
              "      <th>mb_used</th>\n",
              "      <th>is_ultra</th>\n",
              "    </tr>\n",
              "  </thead>\n",
              "  <tbody>\n",
              "    <tr>\n",
              "      <th>0</th>\n",
              "      <td>40.0</td>\n",
              "      <td>311.90</td>\n",
              "      <td>83.0</td>\n",
              "      <td>19915.42</td>\n",
              "      <td>0</td>\n",
              "    </tr>\n",
              "    <tr>\n",
              "      <th>1</th>\n",
              "      <td>85.0</td>\n",
              "      <td>516.75</td>\n",
              "      <td>56.0</td>\n",
              "      <td>22696.96</td>\n",
              "      <td>0</td>\n",
              "    </tr>\n",
              "    <tr>\n",
              "      <th>2</th>\n",
              "      <td>77.0</td>\n",
              "      <td>467.66</td>\n",
              "      <td>86.0</td>\n",
              "      <td>21060.45</td>\n",
              "      <td>0</td>\n",
              "    </tr>\n",
              "    <tr>\n",
              "      <th>3</th>\n",
              "      <td>106.0</td>\n",
              "      <td>745.53</td>\n",
              "      <td>81.0</td>\n",
              "      <td>8437.39</td>\n",
              "      <td>1</td>\n",
              "    </tr>\n",
              "    <tr>\n",
              "      <th>4</th>\n",
              "      <td>66.0</td>\n",
              "      <td>418.74</td>\n",
              "      <td>1.0</td>\n",
              "      <td>14502.75</td>\n",
              "      <td>0</td>\n",
              "    </tr>\n",
              "  </tbody>\n",
              "</table>\n",
              "</div>\n",
              "      <button class=\"colab-df-convert\" onclick=\"convertToInteractive('df-a79a3e66-5d06-4cad-a193-4818bf5c392c')\"\n",
              "              title=\"Convert this dataframe to an interactive table.\"\n",
              "              style=\"display:none;\">\n",
              "        \n",
              "  <svg xmlns=\"http://www.w3.org/2000/svg\" height=\"24px\"viewBox=\"0 0 24 24\"\n",
              "       width=\"24px\">\n",
              "    <path d=\"M0 0h24v24H0V0z\" fill=\"none\"/>\n",
              "    <path d=\"M18.56 5.44l.94 2.06.94-2.06 2.06-.94-2.06-.94-.94-2.06-.94 2.06-2.06.94zm-11 1L8.5 8.5l.94-2.06 2.06-.94-2.06-.94L8.5 2.5l-.94 2.06-2.06.94zm10 10l.94 2.06.94-2.06 2.06-.94-2.06-.94-.94-2.06-.94 2.06-2.06.94z\"/><path d=\"M17.41 7.96l-1.37-1.37c-.4-.4-.92-.59-1.43-.59-.52 0-1.04.2-1.43.59L10.3 9.45l-7.72 7.72c-.78.78-.78 2.05 0 2.83L4 21.41c.39.39.9.59 1.41.59.51 0 1.02-.2 1.41-.59l7.78-7.78 2.81-2.81c.8-.78.8-2.07 0-2.86zM5.41 20L4 18.59l7.72-7.72 1.47 1.35L5.41 20z\"/>\n",
              "  </svg>\n",
              "      </button>\n",
              "      \n",
              "  <style>\n",
              "    .colab-df-container {\n",
              "      display:flex;\n",
              "      flex-wrap:wrap;\n",
              "      gap: 12px;\n",
              "    }\n",
              "\n",
              "    .colab-df-convert {\n",
              "      background-color: #E8F0FE;\n",
              "      border: none;\n",
              "      border-radius: 50%;\n",
              "      cursor: pointer;\n",
              "      display: none;\n",
              "      fill: #1967D2;\n",
              "      height: 32px;\n",
              "      padding: 0 0 0 0;\n",
              "      width: 32px;\n",
              "    }\n",
              "\n",
              "    .colab-df-convert:hover {\n",
              "      background-color: #E2EBFA;\n",
              "      box-shadow: 0px 1px 2px rgba(60, 64, 67, 0.3), 0px 1px 3px 1px rgba(60, 64, 67, 0.15);\n",
              "      fill: #174EA6;\n",
              "    }\n",
              "\n",
              "    [theme=dark] .colab-df-convert {\n",
              "      background-color: #3B4455;\n",
              "      fill: #D2E3FC;\n",
              "    }\n",
              "\n",
              "    [theme=dark] .colab-df-convert:hover {\n",
              "      background-color: #434B5C;\n",
              "      box-shadow: 0px 1px 3px 1px rgba(0, 0, 0, 0.15);\n",
              "      filter: drop-shadow(0px 1px 2px rgba(0, 0, 0, 0.3));\n",
              "      fill: #FFFFFF;\n",
              "    }\n",
              "  </style>\n",
              "\n",
              "      <script>\n",
              "        const buttonEl =\n",
              "          document.querySelector('#df-a79a3e66-5d06-4cad-a193-4818bf5c392c button.colab-df-convert');\n",
              "        buttonEl.style.display =\n",
              "          google.colab.kernel.accessAllowed ? 'block' : 'none';\n",
              "\n",
              "        async function convertToInteractive(key) {\n",
              "          const element = document.querySelector('#df-a79a3e66-5d06-4cad-a193-4818bf5c392c');\n",
              "          const dataTable =\n",
              "            await google.colab.kernel.invokeFunction('convertToInteractive',\n",
              "                                                     [key], {});\n",
              "          if (!dataTable) return;\n",
              "\n",
              "          const docLinkHtml = 'Like what you see? Visit the ' +\n",
              "            '<a target=\"_blank\" href=https://colab.research.google.com/notebooks/data_table.ipynb>data table notebook</a>'\n",
              "            + ' to learn more about interactive tables.';\n",
              "          element.innerHTML = '';\n",
              "          dataTable['output_type'] = 'display_data';\n",
              "          await google.colab.output.renderOutput(dataTable, element);\n",
              "          const docLink = document.createElement('div');\n",
              "          docLink.innerHTML = docLinkHtml;\n",
              "          element.appendChild(docLink);\n",
              "        }\n",
              "      </script>\n",
              "    </div>\n",
              "  </div>\n",
              "  "
            ]
          },
          "metadata": {},
          "execution_count": 3
        }
      ]
    },
    {
      "cell_type": "markdown",
      "source": [
        "We have 4 numeric features and one binary target - is_ultra"
      ],
      "metadata": {
        "id": "qmS48wf2CzfN"
      }
    },
    {
      "cell_type": "code",
      "source": [
        "df.shape"
      ],
      "metadata": {
        "colab": {
          "base_uri": "https://localhost:8080/"
        },
        "id": "C7FXYlXMY3bb",
        "outputId": "1479ccf7-c13a-4227-f2bf-a9a2ba7aa56e"
      },
      "execution_count": null,
      "outputs": [
        {
          "output_type": "execute_result",
          "data": {
            "text/plain": [
              "(3214, 5)"
            ]
          },
          "metadata": {},
          "execution_count": 4
        }
      ]
    },
    {
      "cell_type": "markdown",
      "source": [
        "Classes are slightly inbalanced"
      ],
      "metadata": {
        "id": "Dh-3tX3WQzyk"
      }
    },
    {
      "cell_type": "code",
      "source": [
        "df.is_ultra.mean()"
      ],
      "metadata": {
        "colab": {
          "base_uri": "https://localhost:8080/"
        },
        "id": "MKiD8nqENQxy",
        "outputId": "3a01ef48-156a-4d87-f33e-562bd307f774"
      },
      "execution_count": null,
      "outputs": [
        {
          "output_type": "execute_result",
          "data": {
            "text/plain": [
              "0.30647168637212197"
            ]
          },
          "metadata": {},
          "execution_count": 5
        }
      ]
    },
    {
      "cell_type": "markdown",
      "source": [
        "Extracting features and a target"
      ],
      "metadata": {
        "id": "lJhxZgmEQ3Ty"
      }
    },
    {
      "cell_type": "code",
      "source": [
        "X = df.drop('is_ultra', axis=1).values\n",
        "y = df.is_ultra.values"
      ],
      "metadata": {
        "id": "ig-0SwybY6Ji"
      },
      "execution_count": null,
      "outputs": []
    },
    {
      "cell_type": "markdown",
      "source": [
        "Train/test selection"
      ],
      "metadata": {
        "id": "cGqRrIJcQqyg"
      }
    },
    {
      "cell_type": "code",
      "source": [
        "X_train, X_test, y_train, y_test = train_test_split(X,y, test_size=.25, random_state=42, stratify=y)"
      ],
      "metadata": {
        "id": "G41eZNNP_vLz"
      },
      "execution_count": null,
      "outputs": []
    },
    {
      "cell_type": "markdown",
      "source": [
        "Learning process"
      ],
      "metadata": {
        "id": "i6zZlq5BQorX"
      }
    },
    {
      "cell_type": "code",
      "source": [
        "lr = LogRegression(lr = 0.0005)\n",
        "lr.fit(X_train,y_train, iters = 25)"
      ],
      "metadata": {
        "colab": {
          "base_uri": "https://localhost:8080/"
        },
        "id": "Q4bZbaRCaKA4",
        "outputId": "0acb3269-d004-4089-ecf9-28a95aa803e6"
      },
      "execution_count": null,
      "outputs": [
        {
          "output_type": "stream",
          "name": "stdout",
          "text": [
            "Iteration: 1, Loss: 1650.9549083832262\n",
            "Iteration: 2, Loss: 1594.9481464942287\n",
            "Iteration: 3, Loss: 1548.2772914945083\n",
            "Iteration: 4, Loss: 1510.4035149096644\n",
            "Iteration: 5, Loss: 1480.4819798878298\n",
            "Iteration: 6, Loss: 1457.4512912757298\n",
            "Iteration: 7, Loss: 1440.1509285630157\n",
            "Iteration: 8, Loss: 1427.4362848052992\n",
            "Iteration: 9, Loss: 1418.2668673329042\n",
            "Iteration: 10, Loss: 1411.7570865530015\n",
            "Iteration: 11, Loss: 1407.192263307969\n",
            "Iteration: 12, Loss: 1404.0198244064495\n",
            "Iteration: 13, Loss: 1401.8269236783312\n",
            "Iteration: 14, Loss: 1400.3134127107978\n",
            "Iteration: 15, Loss: 1399.2657561179105\n",
            "Iteration: 16, Loss: 1398.534629822835\n",
            "Iteration: 17, Loss: 1398.0170306290104\n",
            "Iteration: 18, Loss: 1397.6426768184338\n",
            "Iteration: 19, Loss: 1397.3640285204458\n",
            "Iteration: 20, Loss: 1397.149152028311\n",
            "Iteration: 21, Loss: 1396.9767163605186\n",
            "Iteration: 22, Loss: 1396.8325370001332\n",
            "Iteration: 23, Loss: 1396.7072158973642\n",
            "Iteration: 24, Loss: 1396.5945445717916\n"
          ]
        }
      ]
    },
    {
      "cell_type": "markdown",
      "source": [
        "Custom logistic regression results"
      ],
      "metadata": {
        "id": "vJr-8GhQBtKn"
      }
    },
    {
      "cell_type": "code",
      "source": [
        "y_hat_lr = lr.predict(X_test)\n",
        "print('LogRegression from scratch:')\n",
        "print('mean', y_hat_lr.mean())\n",
        "print('accuracy', accuracy_score(y_test, y_hat_lr))\n",
        "print('ROC-AUC: ', roc_auc_score(y_test, lr.predict_proba(X_test)))"
      ],
      "metadata": {
        "colab": {
          "base_uri": "https://localhost:8080/"
        },
        "id": "LqBzYUsQWEyn",
        "outputId": "e696efff-1b64-426b-8719-f252aca4916b"
      },
      "execution_count": null,
      "outputs": [
        {
          "output_type": "stream",
          "name": "stdout",
          "text": [
            "LogRegression from scratch:\n",
            "mean 0.08955223880597014\n",
            "accuracy 0.7338308457711443\n",
            "ROC-AUC:  0.6730701984439199\n"
          ]
        }
      ]
    },
    {
      "cell_type": "markdown",
      "source": [
        "Sklearn logistic regression"
      ],
      "metadata": {
        "id": "lbeHcul3BnrH"
      }
    },
    {
      "cell_type": "code",
      "source": [
        "lr_skl = LogisticRegression(solver='saga')\n",
        "lr_skl.fit(X_train,y_train)\n",
        "y_hat_skl = lr_skl.predict(X_test)\n",
        "print('sklearn LogRegression:')\n",
        "print('mean', y_hat_skl.mean())\n",
        "print('accuracy', accuracy_score(y_test, y_hat_skl))\n",
        "print('ROC-AUC: ',roc_auc_score(y_test, lr_skl.predict_proba(X_test)[:,0]))"
      ],
      "metadata": {
        "colab": {
          "base_uri": "https://localhost:8080/"
        },
        "id": "HUjOnr4COHF9",
        "outputId": "50589389-0ea8-4706-9864-4ab3191c9a27"
      },
      "execution_count": null,
      "outputs": [
        {
          "output_type": "stream",
          "name": "stdout",
          "text": [
            "sklearn LogRegression:\n",
            "mean 0.0\n",
            "accuracy 0.6940298507462687\n",
            "ROC-AUC:  0.6322303814435993\n"
          ]
        },
        {
          "output_type": "stream",
          "name": "stderr",
          "text": [
            "/usr/local/lib/python3.8/dist-packages/sklearn/linear_model/_sag.py:352: ConvergenceWarning: The max_iter was reached which means the coef_ did not converge\n",
            "  warnings.warn(\n"
          ]
        }
      ]
    },
    {
      "cell_type": "markdown",
      "source": [
        "While our classes are quite imbalanced, accuracy is not the finest way to evalueate the models. The ROC-AUC score which is not dependent on the threshold is the better way. But even so our custom logistic regression is a bit better than the one from sklearn."
      ],
      "metadata": {
        "id": "ACvgZozehhX9"
      }
    },
    {
      "cell_type": "markdown",
      "source": [
        "## Bank clients churn dataset"
      ],
      "metadata": {
        "id": "tE3iJbUvJ6RR"
      }
    },
    {
      "cell_type": "markdown",
      "source": [
        "I've already done the data preprocessing for this dataset to get it suitable for the logistic regression(missed values input, categorical features encoding etc.), so we skip this step here.\n",
        "\n",
        "Data description:\n",
        "\n",
        "- credit_score — credit rating\n",
        "- gender — gender\n",
        "- age — age\n",
        "- tenure — how many years a person has been a customer of the bank\n",
        "- balance — account balance\n",
        "- num_of_products — the number of bank products used by the customer\n",
        "- has_cr_card — availability of a credit card\n",
        "- is_active — client activity\n",
        "- estimated_salary — estimated salary\n",
        "- exited — the fact of the client's departure\n",
        "- germany - country of residence\n",
        "- spain - country of residence"
      ],
      "metadata": {
        "id": "WkuT7VC4-r57"
      }
    },
    {
      "cell_type": "code",
      "source": [
        "!gdown 1jnjIh-kZWpoUqc59yj9XGDH_iBZjj8ab"
      ],
      "metadata": {
        "colab": {
          "base_uri": "https://localhost:8080/"
        },
        "id": "BQtrEP8ayOib",
        "outputId": "7859d2c2-3056-4cbc-9b92-42aa47edb59a"
      },
      "execution_count": null,
      "outputs": [
        {
          "output_type": "stream",
          "name": "stdout",
          "text": [
            "Downloading...\n",
            "From: https://drive.google.com/uc?id=1jnjIh-kZWpoUqc59yj9XGDH_iBZjj8ab\n",
            "To: /content/bank_churn_prepared.csv\n",
            "\r  0% 0.00/514k [00:00<?, ?B/s]\r100% 514k/514k [00:00<00:00, 105MB/s]\n"
          ]
        }
      ]
    },
    {
      "cell_type": "code",
      "source": [
        "df_bank = pd.read_csv('/content/bank_churn_prepared.csv', index_col=0)\n",
        "df_bank.head()"
      ],
      "metadata": {
        "colab": {
          "base_uri": "https://localhost:8080/",
          "height": 206
        },
        "id": "kaE74CDyID7q",
        "outputId": "c393b507-af1a-4ee3-da89-4a55cc61e487"
      },
      "execution_count": null,
      "outputs": [
        {
          "output_type": "execute_result",
          "data": {
            "text/plain": [
              "   credit_score  gender  age  tenure    balance  num_of_products  has_cr_card  \\\n",
              "0           619       0   42     0.2       0.00                1            1   \n",
              "1           608       0   41     0.1   83807.86                1            0   \n",
              "2           502       0   42     0.8  159660.80                3            1   \n",
              "3           699       0   39     0.1       0.00                2            0   \n",
              "4           850       0   43     0.2  125510.82                1            1   \n",
              "\n",
              "   is_active  estimated_salary  exited  germany  spain  \n",
              "0          1         101348.88       1        0      0  \n",
              "1          1         112542.58       0        0      1  \n",
              "2          0         113931.57       1        0      0  \n",
              "3          0          93826.63       0        0      0  \n",
              "4          1          79084.10       0        0      1  "
            ],
            "text/html": [
              "\n",
              "  <div id=\"df-4e69a02d-a301-4123-abdf-f3237cf6568b\">\n",
              "    <div class=\"colab-df-container\">\n",
              "      <div>\n",
              "<style scoped>\n",
              "    .dataframe tbody tr th:only-of-type {\n",
              "        vertical-align: middle;\n",
              "    }\n",
              "\n",
              "    .dataframe tbody tr th {\n",
              "        vertical-align: top;\n",
              "    }\n",
              "\n",
              "    .dataframe thead th {\n",
              "        text-align: right;\n",
              "    }\n",
              "</style>\n",
              "<table border=\"1\" class=\"dataframe\">\n",
              "  <thead>\n",
              "    <tr style=\"text-align: right;\">\n",
              "      <th></th>\n",
              "      <th>credit_score</th>\n",
              "      <th>gender</th>\n",
              "      <th>age</th>\n",
              "      <th>tenure</th>\n",
              "      <th>balance</th>\n",
              "      <th>num_of_products</th>\n",
              "      <th>has_cr_card</th>\n",
              "      <th>is_active</th>\n",
              "      <th>estimated_salary</th>\n",
              "      <th>exited</th>\n",
              "      <th>germany</th>\n",
              "      <th>spain</th>\n",
              "    </tr>\n",
              "  </thead>\n",
              "  <tbody>\n",
              "    <tr>\n",
              "      <th>0</th>\n",
              "      <td>619</td>\n",
              "      <td>0</td>\n",
              "      <td>42</td>\n",
              "      <td>0.2</td>\n",
              "      <td>0.00</td>\n",
              "      <td>1</td>\n",
              "      <td>1</td>\n",
              "      <td>1</td>\n",
              "      <td>101348.88</td>\n",
              "      <td>1</td>\n",
              "      <td>0</td>\n",
              "      <td>0</td>\n",
              "    </tr>\n",
              "    <tr>\n",
              "      <th>1</th>\n",
              "      <td>608</td>\n",
              "      <td>0</td>\n",
              "      <td>41</td>\n",
              "      <td>0.1</td>\n",
              "      <td>83807.86</td>\n",
              "      <td>1</td>\n",
              "      <td>0</td>\n",
              "      <td>1</td>\n",
              "      <td>112542.58</td>\n",
              "      <td>0</td>\n",
              "      <td>0</td>\n",
              "      <td>1</td>\n",
              "    </tr>\n",
              "    <tr>\n",
              "      <th>2</th>\n",
              "      <td>502</td>\n",
              "      <td>0</td>\n",
              "      <td>42</td>\n",
              "      <td>0.8</td>\n",
              "      <td>159660.80</td>\n",
              "      <td>3</td>\n",
              "      <td>1</td>\n",
              "      <td>0</td>\n",
              "      <td>113931.57</td>\n",
              "      <td>1</td>\n",
              "      <td>0</td>\n",
              "      <td>0</td>\n",
              "    </tr>\n",
              "    <tr>\n",
              "      <th>3</th>\n",
              "      <td>699</td>\n",
              "      <td>0</td>\n",
              "      <td>39</td>\n",
              "      <td>0.1</td>\n",
              "      <td>0.00</td>\n",
              "      <td>2</td>\n",
              "      <td>0</td>\n",
              "      <td>0</td>\n",
              "      <td>93826.63</td>\n",
              "      <td>0</td>\n",
              "      <td>0</td>\n",
              "      <td>0</td>\n",
              "    </tr>\n",
              "    <tr>\n",
              "      <th>4</th>\n",
              "      <td>850</td>\n",
              "      <td>0</td>\n",
              "      <td>43</td>\n",
              "      <td>0.2</td>\n",
              "      <td>125510.82</td>\n",
              "      <td>1</td>\n",
              "      <td>1</td>\n",
              "      <td>1</td>\n",
              "      <td>79084.10</td>\n",
              "      <td>0</td>\n",
              "      <td>0</td>\n",
              "      <td>1</td>\n",
              "    </tr>\n",
              "  </tbody>\n",
              "</table>\n",
              "</div>\n",
              "      <button class=\"colab-df-convert\" onclick=\"convertToInteractive('df-4e69a02d-a301-4123-abdf-f3237cf6568b')\"\n",
              "              title=\"Convert this dataframe to an interactive table.\"\n",
              "              style=\"display:none;\">\n",
              "        \n",
              "  <svg xmlns=\"http://www.w3.org/2000/svg\" height=\"24px\"viewBox=\"0 0 24 24\"\n",
              "       width=\"24px\">\n",
              "    <path d=\"M0 0h24v24H0V0z\" fill=\"none\"/>\n",
              "    <path d=\"M18.56 5.44l.94 2.06.94-2.06 2.06-.94-2.06-.94-.94-2.06-.94 2.06-2.06.94zm-11 1L8.5 8.5l.94-2.06 2.06-.94-2.06-.94L8.5 2.5l-.94 2.06-2.06.94zm10 10l.94 2.06.94-2.06 2.06-.94-2.06-.94-.94-2.06-.94 2.06-2.06.94z\"/><path d=\"M17.41 7.96l-1.37-1.37c-.4-.4-.92-.59-1.43-.59-.52 0-1.04.2-1.43.59L10.3 9.45l-7.72 7.72c-.78.78-.78 2.05 0 2.83L4 21.41c.39.39.9.59 1.41.59.51 0 1.02-.2 1.41-.59l7.78-7.78 2.81-2.81c.8-.78.8-2.07 0-2.86zM5.41 20L4 18.59l7.72-7.72 1.47 1.35L5.41 20z\"/>\n",
              "  </svg>\n",
              "      </button>\n",
              "      \n",
              "  <style>\n",
              "    .colab-df-container {\n",
              "      display:flex;\n",
              "      flex-wrap:wrap;\n",
              "      gap: 12px;\n",
              "    }\n",
              "\n",
              "    .colab-df-convert {\n",
              "      background-color: #E8F0FE;\n",
              "      border: none;\n",
              "      border-radius: 50%;\n",
              "      cursor: pointer;\n",
              "      display: none;\n",
              "      fill: #1967D2;\n",
              "      height: 32px;\n",
              "      padding: 0 0 0 0;\n",
              "      width: 32px;\n",
              "    }\n",
              "\n",
              "    .colab-df-convert:hover {\n",
              "      background-color: #E2EBFA;\n",
              "      box-shadow: 0px 1px 2px rgba(60, 64, 67, 0.3), 0px 1px 3px 1px rgba(60, 64, 67, 0.15);\n",
              "      fill: #174EA6;\n",
              "    }\n",
              "\n",
              "    [theme=dark] .colab-df-convert {\n",
              "      background-color: #3B4455;\n",
              "      fill: #D2E3FC;\n",
              "    }\n",
              "\n",
              "    [theme=dark] .colab-df-convert:hover {\n",
              "      background-color: #434B5C;\n",
              "      box-shadow: 0px 1px 3px 1px rgba(0, 0, 0, 0.15);\n",
              "      filter: drop-shadow(0px 1px 2px rgba(0, 0, 0, 0.3));\n",
              "      fill: #FFFFFF;\n",
              "    }\n",
              "  </style>\n",
              "\n",
              "      <script>\n",
              "        const buttonEl =\n",
              "          document.querySelector('#df-4e69a02d-a301-4123-abdf-f3237cf6568b button.colab-df-convert');\n",
              "        buttonEl.style.display =\n",
              "          google.colab.kernel.accessAllowed ? 'block' : 'none';\n",
              "\n",
              "        async function convertToInteractive(key) {\n",
              "          const element = document.querySelector('#df-4e69a02d-a301-4123-abdf-f3237cf6568b');\n",
              "          const dataTable =\n",
              "            await google.colab.kernel.invokeFunction('convertToInteractive',\n",
              "                                                     [key], {});\n",
              "          if (!dataTable) return;\n",
              "\n",
              "          const docLinkHtml = 'Like what you see? Visit the ' +\n",
              "            '<a target=\"_blank\" href=https://colab.research.google.com/notebooks/data_table.ipynb>data table notebook</a>'\n",
              "            + ' to learn more about interactive tables.';\n",
              "          element.innerHTML = '';\n",
              "          dataTable['output_type'] = 'display_data';\n",
              "          await google.colab.output.renderOutput(dataTable, element);\n",
              "          const docLink = document.createElement('div');\n",
              "          docLink.innerHTML = docLinkHtml;\n",
              "          element.appendChild(docLink);\n",
              "        }\n",
              "      </script>\n",
              "    </div>\n",
              "  </div>\n",
              "  "
            ]
          },
          "metadata": {},
          "execution_count": 12
        }
      ]
    },
    {
      "cell_type": "markdown",
      "source": [
        "We have 11 numeric features and one binary target - \"exited\""
      ],
      "metadata": {
        "id": "CflfiJQvRY_n"
      }
    },
    {
      "cell_type": "code",
      "source": [
        "df_bank.shape"
      ],
      "metadata": {
        "colab": {
          "base_uri": "https://localhost:8080/"
        },
        "id": "KYzLk_CxRTt3",
        "outputId": "b4485372-766e-46c5-e32c-b1172eea2a02"
      },
      "execution_count": null,
      "outputs": [
        {
          "output_type": "execute_result",
          "data": {
            "text/plain": [
              "(10000, 12)"
            ]
          },
          "metadata": {},
          "execution_count": 13
        }
      ]
    },
    {
      "cell_type": "code",
      "source": [
        "df_bank.exited.mean()"
      ],
      "metadata": {
        "colab": {
          "base_uri": "https://localhost:8080/"
        },
        "id": "mpU6u0QQKCSW",
        "outputId": "5eab96d3-c912-4591-ba7d-78058709f4b6"
      },
      "execution_count": null,
      "outputs": [
        {
          "output_type": "execute_result",
          "data": {
            "text/plain": [
              "0.2037"
            ]
          },
          "metadata": {},
          "execution_count": 14
        }
      ]
    },
    {
      "cell_type": "markdown",
      "source": [
        "This one is also unbalanced 20/80"
      ],
      "metadata": {
        "id": "D5hzUVFh_ZeP"
      }
    },
    {
      "cell_type": "markdown",
      "source": [
        "Features and target extraction, train/test selection"
      ],
      "metadata": {
        "id": "WvV8B0lzRh73"
      }
    },
    {
      "cell_type": "code",
      "source": [
        "X_b = df_bank.drop('is_active', axis=1).values\n",
        "y_b = df_bank.is_active.values\n",
        "\n",
        "X_b_train, X_b_test, y_b_train, y_b_test = train_test_split(X_b, y_b, test_size=0.25, random_state=42, stratify=y_b)"
      ],
      "metadata": {
        "id": "3LMWB4-dIKdE"
      },
      "execution_count": null,
      "outputs": []
    },
    {
      "cell_type": "markdown",
      "source": [
        "Fitting process"
      ],
      "metadata": {
        "id": "TrrD8iv5_doT"
      }
    },
    {
      "cell_type": "code",
      "source": [
        "clf = LogRegression(lr = 0.0005)\n",
        "clf.fit(X_b_train, y_b_train, iters = 20)"
      ],
      "metadata": {
        "colab": {
          "base_uri": "https://localhost:8080/"
        },
        "id": "Q3qC-N8BInx1",
        "outputId": "dea2cecf-064c-4e04-b35a-23283d9ecb87"
      },
      "execution_count": null,
      "outputs": [
        {
          "output_type": "stream",
          "name": "stdout",
          "text": [
            "Iteration: 1, Loss: 6558.340938369177\n",
            "Iteration: 2, Loss: 5393.629662095283\n",
            "Iteration: 3, Loss: 5105.07392611429\n",
            "Iteration: 4, Loss: 5040.332352493768\n",
            "Iteration: 5, Loss: 5025.83706801451\n",
            "Iteration: 6, Loss: 5022.520214738344\n",
            "Iteration: 7, Loss: 5021.743007330459\n",
            "Iteration: 8, Loss: 5021.5570447458385\n",
            "Iteration: 9, Loss: 5021.511008693819\n",
            "Iteration: 10, Loss: 5021.498347572343\n",
            "Iteration: 11, Loss: 5021.493784656097\n",
            "Iteration: 12, Loss: 5021.4913863912125\n",
            "Iteration: 13, Loss: 5021.489774872824\n",
            "Iteration: 14, Loss: 5021.488606021512\n",
            "Iteration: 15, Loss: 5021.48775607409\n",
            "Iteration: 16, Loss: 5021.487148022863\n",
            "Iteration: 17, Loss: 5021.4867206338295\n",
            "Iteration: 18, Loss: 5021.48642465966\n",
            "Iteration: 19, Loss: 5021.486222077396\n"
          ]
        }
      ]
    },
    {
      "cell_type": "code",
      "source": [
        "y_hat_lr = clf.predict(X_b_test)\n",
        "print('LogRegression from scratch:')\n",
        "print('mean', y_hat_lr.mean())\n",
        "print('accuracy', accuracy_score(y_b_test, y_hat_lr))\n",
        "print('ROC-AUC: ', roc_auc_score(y_b_test, clf.predict_proba(X_b_test)))"
      ],
      "metadata": {
        "colab": {
          "base_uri": "https://localhost:8080/"
        },
        "id": "9ZmcvF1IIv8c",
        "outputId": "2753da2e-6bc0-436f-f0f8-100424690bfc"
      },
      "execution_count": null,
      "outputs": [
        {
          "output_type": "stream",
          "name": "stdout",
          "text": [
            "LogRegression from scratch:\n",
            "mean 0.6192\n",
            "accuracy 0.5576\n",
            "ROC-AUC:  0.5982360658426091\n"
          ]
        }
      ]
    },
    {
      "cell_type": "code",
      "source": [
        "skl_clf = LogisticRegression()\n",
        "\n",
        "skl_clf.fit(X_b_train, y_b_train)\n",
        "y_hat_skl = skl_clf.predict(X_b_test)\n",
        "print('sklearn LogRegression:')\n",
        "print('mean', y_hat_skl.mean())\n",
        "print('accuracy', accuracy_score(y_b_test, y_hat_skl))\n",
        "print('ROC-AUC: ',roc_auc_score(y_b_test, skl_clf.predict_proba(X_b_test)[:,0]))\n"
      ],
      "metadata": {
        "colab": {
          "base_uri": "https://localhost:8080/"
        },
        "id": "Kr_WRCDWJOzR",
        "outputId": "414db50c-15c4-4bdb-903e-6f744083dae0"
      },
      "execution_count": null,
      "outputs": [
        {
          "output_type": "stream",
          "name": "stdout",
          "text": [
            "sklearn LogRegression:\n",
            "mean 0.9232\n",
            "accuracy 0.5184\n",
            "ROC-AUC:  0.48610748108972385\n"
          ]
        }
      ]
    },
    {
      "cell_type": "markdown",
      "source": [
        "On this dataset our custom regression is also better than the original one(by looking at the ROC-AUC score)."
      ],
      "metadata": {
        "id": "MFxThZakiBHt"
      }
    },
    {
      "cell_type": "markdown",
      "source": [
        "Lets try to upsample the training dataset by adding copies of the samples with 1:2 ratio in order to prevent the unbalanced issue:"
      ],
      "metadata": {
        "id": "Zd9x-u36iXXM"
      }
    },
    {
      "cell_type": "code",
      "source": [
        "def upsample(X, y, repeat):\n",
        "    X_0 = X[y == 0]\n",
        "    X_1 = X[y == 1]\n",
        "    y_0 = y[y == 0]\n",
        "    y_1 = y[y == 1]\n",
        "\n",
        "    X_upsampled = np.concatenate([X_0] + [X_1] * repeat)\n",
        "    y_upsampled = np.concatenate([y_0] + [y_1] * repeat)\n",
        "    \n",
        "    X_upsampled, y_upsampled = shuffle(X_upsampled, y_upsampled, random_state=42)\n",
        "    \n",
        "    return X_upsampled, y_upsampled"
      ],
      "metadata": {
        "id": "-of5CZ1NWFhH"
      },
      "execution_count": null,
      "outputs": []
    },
    {
      "cell_type": "code",
      "source": [
        "X_train_up, y_train_up = upsample(X_b_train, y_b_train, 2)\n",
        "\n",
        "print('Upsampled train features', X_train_up.shape)\n",
        "print('Upsampled train target', y_train_up.shape)\n",
        "print()\n",
        "print('Upsampled target mean',y_train_up.mean() )"
      ],
      "metadata": {
        "colab": {
          "base_uri": "https://localhost:8080/"
        },
        "id": "ko2qLz6tWGmF",
        "outputId": "2715e270-cc50-48c8-848d-a0eff4eb947b"
      },
      "execution_count": null,
      "outputs": [
        {
          "output_type": "stream",
          "name": "stdout",
          "text": [
            "Upsampled train features (11363, 11)\n",
            "Upsampled train target (11363,)\n",
            "\n",
            "Upsampled target mean 0.6799260758602482\n"
          ]
        }
      ]
    },
    {
      "cell_type": "markdown",
      "source": [
        "Now the balance is way better than the original dataset."
      ],
      "metadata": {
        "id": "zjXXq3tiiuGQ"
      }
    },
    {
      "cell_type": "code",
      "source": [
        "clf.fit(X_train_up, y_train_up, iters = 20)"
      ],
      "metadata": {
        "colab": {
          "base_uri": "https://localhost:8080/"
        },
        "id": "_sr7sx54sTNb",
        "outputId": "e00e43d1-c3d0-42ad-f3f0-8fce6455e71e"
      },
      "execution_count": null,
      "outputs": [
        {
          "output_type": "stream",
          "name": "stdout",
          "text": [
            "Iteration: 1, Loss: 9009.806887299681\n",
            "Iteration: 2, Loss: 7094.168204901615\n",
            "Iteration: 3, Loss: 6916.8125788202415\n",
            "Iteration: 4, Loss: 6903.375104030491\n",
            "Iteration: 5, Loss: 6902.088090168179\n",
            "Iteration: 6, Loss: 6901.88430023991\n",
            "Iteration: 7, Loss: 6901.827503179093\n",
            "Iteration: 8, Loss: 6901.805216555675\n",
            "Iteration: 9, Loss: 6901.7949555227715\n",
            "Iteration: 10, Loss: 6901.789830023607\n",
            "Iteration: 11, Loss: 6901.787147436089\n",
            "Iteration: 12, Loss: 6901.785703502352\n",
            "Iteration: 13, Loss: 6901.784912885452\n",
            "Iteration: 14, Loss: 6901.784475409504\n",
            "Iteration: 15, Loss: 6901.784231750018\n",
            "Iteration: 16, Loss: 6901.784095479137\n",
            "Iteration: 17, Loss: 6901.784019065506\n",
            "Iteration: 18, Loss: 6901.783976142492\n",
            "Iteration: 19, Loss: 6901.783952003796\n"
          ]
        }
      ]
    },
    {
      "cell_type": "code",
      "source": [
        "y_hat_lr = clf.predict(X_b_test)\n",
        "print('LogRegression from scratch:')\n",
        "print('mean', y_hat_lr.mean())\n",
        "print('accuracy', accuracy_score(y_b_test, y_hat_lr))\n",
        "print('ROC-AUC: ', roc_auc_score(y_b_test, clf.predict_proba(X_b_test)))"
      ],
      "metadata": {
        "colab": {
          "base_uri": "https://localhost:8080/"
        },
        "id": "79MDIM9qshgI",
        "outputId": "b62cf630-6cea-4187-c481-a4c5aab10a57"
      },
      "execution_count": null,
      "outputs": [
        {
          "output_type": "stream",
          "name": "stdout",
          "text": [
            "LogRegression from scratch:\n",
            "mean 0.9276\n",
            "accuracy 0.5324\n",
            "ROC-AUC:  0.5999900067646516\n"
          ]
        }
      ]
    },
    {
      "cell_type": "code",
      "source": [
        "skl_clf = LogisticRegression()\n",
        "\n",
        "skl_clf.fit(X_train_up, y_train_up)\n",
        "y_hat_skl = skl_clf.predict(X_b_test)\n",
        "print('sklearn LogRegression:')\n",
        "print('mean', y_hat_skl.mean())\n",
        "print('accuracy', accuracy_score(y_b_test, y_hat_skl))\n",
        "print('ROC-AUC: ',roc_auc_score(y_b_test, skl_clf.predict_proba(X_b_test)[:,0]))"
      ],
      "metadata": {
        "colab": {
          "base_uri": "https://localhost:8080/"
        },
        "id": "8Ogi7cJAsl1J",
        "outputId": "ddcebc17-5de8-41d8-d802-32a174c9c8aa"
      },
      "execution_count": null,
      "outputs": [
        {
          "output_type": "stream",
          "name": "stdout",
          "text": [
            "sklearn LogRegression:\n",
            "mean 1.0\n",
            "accuracy 0.5152\n",
            "ROC-AUC:  0.48390960990508985\n"
          ]
        }
      ]
    },
    {
      "cell_type": "markdown",
      "source": [
        "As we can see there are almost no impact to the metrics after upsampling. Bear in mind the test dataset has the same inbalance as the original one."
      ],
      "metadata": {
        "id": "63bvVsDJi1NT"
      }
    },
    {
      "cell_type": "markdown",
      "source": [
        "## Summary\n",
        "\n",
        "\n"
      ],
      "metadata": {
        "id": "x3Q32E2aRqRB"
      }
    },
    {
      "cell_type": "markdown",
      "source": [
        "Even considering the fact than the default sklearn Logistic regression uses different optimisation method and we haven't tried to fine tune it by using different hyperparameters and trying to decrease the imbalance impact, its not a bad result.\n",
        "\n",
        "However that wasn't the main goal of this work. The main goal was a better understanding of the ML algorythms and to see how it works. From my point of view this goal is achieved. \n",
        "Hope you enjoy that!"
      ],
      "metadata": {
        "id": "odW9mkRwjPnX"
      }
    }
  ]
}